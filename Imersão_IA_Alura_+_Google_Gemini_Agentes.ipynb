{
  "nbformat": 4,
  "nbformat_minor": 0,
  "metadata": {
    "colab": {
      "provenance": []
    },
    "kernelspec": {
      "name": "python3",
      "display_name": "Python 3"
    },
    "language_info": {
      "name": "python"
    }
  },
  "cells": [
    {
      "cell_type": "code",
      "source": [
        "%pip -q install google-genai"
      ],
      "metadata": {
        "id": "UCCbECexLk_h"
      },
      "execution_count": null,
      "outputs": []
    },
    {
      "cell_type": "code",
      "source": [
        "# Configura a API Key do Google Gemini\n",
        "\n",
        "import os\n",
        "from google.colab import userdata\n",
        "\n",
        "os.environ[\"GOOGLE_API_KEY\"] = userdata.get('GOOGLE_API_KEY')"
      ],
      "metadata": {
        "id": "NfCqHo1tLk8P"
      },
      "execution_count": null,
      "outputs": []
    },
    {
      "cell_type": "code",
      "source": [
        "# Instalar Framework ADK de agentes do Google ################################################\n",
        "!pip install -q google-adk"
      ],
      "metadata": {
        "id": "hvZ3UnPI4jhJ",
        "colab": {
          "base_uri": "https://localhost:8080/"
        },
        "outputId": "bcd6551e-5aa4-472b-c5c6-682ea85210f3"
      },
      "execution_count": null,
      "outputs": [
        {
          "output_type": "stream",
          "name": "stdout",
          "text": [
            "\u001b[?25l   \u001b[90m━━━━━━━━━━━━━━━━━━━━━━━━━━━━━━━━━━━━━━━━\u001b[0m \u001b[32m0.0/1.2 MB\u001b[0m \u001b[31m?\u001b[0m eta \u001b[36m-:--:--\u001b[0m\r\u001b[2K   \u001b[91m━━━━━━━━━━━━━━━━━━━━━━━━━━━━━━━━━━━━━━━\u001b[0m\u001b[91m╸\u001b[0m \u001b[32m1.2/1.2 MB\u001b[0m \u001b[31m39.0 MB/s\u001b[0m eta \u001b[36m0:00:01\u001b[0m\r\u001b[2K   \u001b[90m━━━━━━━━━━━━━━━━━━━━━━━━━━━━━━━━━━━━━━━━\u001b[0m \u001b[32m1.2/1.2 MB\u001b[0m \u001b[31m25.6 MB/s\u001b[0m eta \u001b[36m0:00:00\u001b[0m\n",
            "\u001b[2K   \u001b[90m━━━━━━━━━━━━━━━━━━━━━━━━━━━━━━━━━━━━━━━━\u001b[0m \u001b[32m232.1/232.1 kB\u001b[0m \u001b[31m15.5 MB/s\u001b[0m eta \u001b[36m0:00:00\u001b[0m\n",
            "\u001b[2K   \u001b[90m━━━━━━━━━━━━━━━━━━━━━━━━━━━━━━━━━━━━━━━━\u001b[0m \u001b[32m95.2/95.2 kB\u001b[0m \u001b[31m7.3 MB/s\u001b[0m eta \u001b[36m0:00:00\u001b[0m\n",
            "\u001b[2K   \u001b[90m━━━━━━━━━━━━━━━━━━━━━━━━━━━━━━━━━━━━━━━━\u001b[0m \u001b[32m217.1/217.1 kB\u001b[0m \u001b[31m13.1 MB/s\u001b[0m eta \u001b[36m0:00:00\u001b[0m\n",
            "\u001b[2K   \u001b[90m━━━━━━━━━━━━━━━━━━━━━━━━━━━━━━━━━━━━━━━━\u001b[0m \u001b[32m334.1/334.1 kB\u001b[0m \u001b[31m22.3 MB/s\u001b[0m eta \u001b[36m0:00:00\u001b[0m\n",
            "\u001b[2K   \u001b[90m━━━━━━━━━━━━━━━━━━━━━━━━━━━━━━━━━━━━━━━━\u001b[0m \u001b[32m125.1/125.1 kB\u001b[0m \u001b[31m7.6 MB/s\u001b[0m eta \u001b[36m0:00:00\u001b[0m\n",
            "\u001b[2K   \u001b[90m━━━━━━━━━━━━━━━━━━━━━━━━━━━━━━━━━━━━━━━━\u001b[0m \u001b[32m65.8/65.8 kB\u001b[0m \u001b[31m5.2 MB/s\u001b[0m eta \u001b[36m0:00:00\u001b[0m\n",
            "\u001b[2K   \u001b[90m━━━━━━━━━━━━━━━━━━━━━━━━━━━━━━━━━━━━━━━━\u001b[0m \u001b[32m119.0/119.0 kB\u001b[0m \u001b[31m8.5 MB/s\u001b[0m eta \u001b[36m0:00:00\u001b[0m\n",
            "\u001b[2K   \u001b[90m━━━━━━━━━━━━━━━━━━━━━━━━━━━━━━━━━━━━━━━━\u001b[0m \u001b[32m194.9/194.9 kB\u001b[0m \u001b[31m11.5 MB/s\u001b[0m eta \u001b[36m0:00:00\u001b[0m\n",
            "\u001b[2K   \u001b[90m━━━━━━━━━━━━━━━━━━━━━━━━━━━━━━━━━━━━━━━━\u001b[0m \u001b[32m62.5/62.5 kB\u001b[0m \u001b[31m4.0 MB/s\u001b[0m eta \u001b[36m0:00:00\u001b[0m\n",
            "\u001b[2K   \u001b[90m━━━━━━━━━━━━━━━━━━━━━━━━━━━━━━━━━━━━━━━━\u001b[0m \u001b[32m103.3/103.3 kB\u001b[0m \u001b[31m7.4 MB/s\u001b[0m eta \u001b[36m0:00:00\u001b[0m\n",
            "\u001b[2K   \u001b[90m━━━━━━━━━━━━━━━━━━━━━━━━━━━━━━━━━━━━━━━━\u001b[0m \u001b[32m44.4/44.4 kB\u001b[0m \u001b[31m2.2 MB/s\u001b[0m eta \u001b[36m0:00:00\u001b[0m\n",
            "\u001b[2K   \u001b[90m━━━━━━━━━━━━━━━━━━━━━━━━━━━━━━━━━━━━━━━━\u001b[0m \u001b[32m72.0/72.0 kB\u001b[0m \u001b[31m5.3 MB/s\u001b[0m eta \u001b[36m0:00:00\u001b[0m\n",
            "\u001b[?25h"
          ]
        }
      ]
    },
    {
      "cell_type": "code",
      "execution_count": null,
      "metadata": {
        "id": "aePV2bdfDeoW"
      },
      "outputs": [],
      "source": [
        "from google.adk.agents import Agent\n",
        "from google.adk.runners import Runner\n",
        "from google.adk.sessions import InMemorySessionService\n",
        "from google.adk.tools import google_search\n",
        "from google.genai import types  # Para criar conteúdos (Content e Part)\n",
        "from datetime import date\n",
        "import textwrap # Para formatar melhor a saída de texto\n",
        "from IPython.display import display, Markdown # Para exibir texto formatado no Colab\n",
        "import requests # Para fazer requisições HTTP\n",
        "import warnings\n",
        "\n",
        "warnings.filterwarnings(\"ignore\")"
      ]
    },
    {
      "cell_type": "code",
      "source": [
        "# Função auxiliar que envia uma mensagem para um agente via Runner e retorna a resposta final\n",
        "def call_agent(agent: Agent, message_text: str) -> str:\n",
        "    # Cria um serviço de sessão em memória\n",
        "    session_service = InMemorySessionService()\n",
        "    # Cria uma nova sessão (você pode personalizar os IDs conforme necessário)\n",
        "    session = session_service.create_session(app_name=agent.name, user_id=\"user1\", session_id=\"session1\")\n",
        "    # Cria um Runner para o agente\n",
        "    runner = Runner(agent=agent, app_name=agent.name, session_service=session_service)\n",
        "    # Cria o conteúdo da mensagem de entrada\n",
        "    content = types.Content(role=\"user\", parts=[types.Part(text=message_text)])\n",
        "\n",
        "    final_response = \"\"\n",
        "    # Itera assincronamente pelos eventos retornados durante a execução do agente\n",
        "    for event in runner.run(user_id=\"user1\", session_id=\"session1\", new_message=content):\n",
        "        if event.is_final_response():\n",
        "          for part in event.content.parts:\n",
        "            if part.text is not None:\n",
        "              final_response += part.text\n",
        "              final_response += \"\\n\"\n",
        "    return final_response"
      ],
      "metadata": {
        "id": "_xP4lWhsS5ko"
      },
      "execution_count": null,
      "outputs": []
    },
    {
      "cell_type": "code",
      "source": [
        "##########################################\n",
        "# --- Agente 1: Buscador de Preços --- #\n",
        "##########################################\n",
        "\n",
        "def agente_buscador(medicamento):\n",
        "\n",
        "  buscador = Agent(\n",
        "      name = \"agente_buscador\",\n",
        "      # model = \"gemini-2.0-flash\",\n",
        "      model = \"gemini-2.5-flash-preview-04-17\",\n",
        "      description = \"Agente que busca preços no Google\",\n",
        "      tools = [google_search],\n",
        "      instruction = \"\"\"\n",
        "      Você é um assistente de pesquisa. A sua tarefa é usar a ferramenta de busca do Google (google_search) para recuperar os melhores preços e ofertas do medicamento abaixo.\n",
        "      Os melhores preços seriam os com menor valor, tendo desconto ou não.\n",
        "      Retorne no máximo 5 melhores preços, incluindo preços com descontos.\n",
        "\n",
        "      Retorne na seguinte estrutura:\n",
        "      Farmácia: Nome da Farmácia\n",
        "      Medicamento: Nome\n",
        "      Descrição: Descrição do medicamento\n",
        "      Valor: Apenas o valor do medicamento encontrado na busca\n",
        "      Link: Link de acesso ao site da farmacia, formate ele para um formato https valido\n",
        "      \"\"\"\n",
        "  )\n",
        "\n",
        "  entrada_do_agente_buscador = f\"Medicamento: {medicamento}\"\n",
        "\n",
        "  resultado = call_agent(buscador, entrada_do_agente_buscador)\n",
        "  return resultado"
      ],
      "metadata": {
        "id": "o8bqIfi_DyH8"
      },
      "execution_count": 74,
      "outputs": []
    },
    {
      "cell_type": "code",
      "source": [
        "print(\"Iniciando o Sistema de Busca de Medicamentos com Melhores Preços\")\n",
        "\n",
        "# --- Obter o Tópico do Usuário ---\n",
        "medicamento = input(\"Por favor, digite o medicamento que você tem interesse: \")\n",
        "\n",
        "# Inserir lógica do sistema de agentes ################################################\n",
        "\n",
        "if not medicamento:\n",
        "  print(\"É necessário informar pelo menos 1 medicamento\")\n",
        "else:\n",
        "  print(f\"Maravilha! Vamos buscar os melhores valores para {medicamento}.\")\n",
        "\n",
        "  resultado_pesquisa = agente_buscador(medicamento)\n",
        "  print(\"\\n------ Resultado da Busca ------\\n\")\n",
        "  print(resultado_pesquisa)\n",
        "  print(\"----------------------------------------------------\")\n"
      ],
      "metadata": {
        "id": "630ummxz4myx",
        "colab": {
          "base_uri": "https://localhost:8080/"
        },
        "outputId": "d2e5ae96-3535-421a-ef2c-2f27c76c7f2f"
      },
      "execution_count": 81,
      "outputs": [
        {
          "output_type": "stream",
          "name": "stdout",
          "text": [
            "Iniciando o Sistema de Busca de Medicamentos com Melhores Preços\n",
            "Por favor, digite o medicamento que você tem interesse: Level\n",
            "Maravilha! Vamos buscar os melhores valores para Level.\n",
            "\n",
            "------ Resultado da Busca ------\n",
            "\n",
            "Para o medicamento Level, encontrei os seguintes preços e ofertas:\n",
            "\n",
            "Farmácia: Drogaria Catarinense\n",
            "Medicamento: Level 21 Comprimidos\n",
            "Descrição: Contraceptivo oral com Levonorgestrel 0,1mg + Etinilestradiol 0,02mg.\n",
            "Valor: R$ 21,76\n",
            "Link: https://www.drogariacatarinense.com.br/level-21-comprimidos\n",
            "\n",
            "Farmácia: Farmácia Preço Popular\n",
            "Medicamento: Level Com 21 Comprimidos\n",
            "Descrição: Contraceptivo oral combinado indicado na prevenção da gravidez e para o controle de irregularidades menstruais.\n",
            "Valor: R$ 22,35\n",
            "Link: https://www.farmaciaprecopopular.com.br/level-com-21-comprimidos\n",
            "\n",
            "Farmácia: Drogaria Nova Esperança\n",
            "Medicamento: Level 0,10/0,02mg com 21 comprimidos - Biolab\n",
            "Descrição: Anticoncepcional utilizado para inibir gravidezes não planejadas.\n",
            "Valor: R$ 23,69\n",
            "Link: https://www.drogarianovaesperanca.com.br/level-0-10-0-02mg-com-21-comprimidos-biolab\n",
            "\n",
            "Farmácia: Drogaria Vera Cruz\n",
            "Medicamento: Level - 21 Comprimidos\n",
            "Descrição: (Descrição não detalhada nos resultados diretos, mas similar aos outros Level 21 Comprimidos).\n",
            "Valor: R$ 24,11\n",
            "Link: https://www.drogariaveracruz.com.br/level-21-comprimidos\n",
            "\n",
            "Farmácia: CallFarma\n",
            "Medicamento: Level 0,1/0,2 mg caixa com 21 comprimidos revestidos adulto\n",
            "Descrição: Contraceptivo oral.\n",
            "Valor: R$ 24,45\n",
            "Link: https://www.callfarma.com.br/level-0-1-0-2-mg-caixa-com-21-comprimidos-revestidos-adulto\n",
            "\n",
            "----------------------------------------------------\n"
          ]
        }
      ]
    }
  ]
}