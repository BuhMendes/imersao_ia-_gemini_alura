{
 "cells": [
  {
   "cell_type": "code",
   "execution_count": null,
   "metadata": {
    "id": "UCCbECexLk_h"
   },
   "outputs": [],
   "source": [
    "%pip -q install google-genai"
   ]
  },
  {
   "cell_type": "code",
   "execution_count": null,
   "metadata": {
    "id": "NfCqHo1tLk8P"
   },
   "outputs": [],
   "source": [
    "# Configura a API Key do Google Gemini\n",
    "\n",
    "import os\n",
    "from google.colab import userdata\n",
    "\n",
    "os.environ[\"GOOGLE_API_KEY\"] = userdata.get('GOOGLE_API_KEY')"
   ]
  },
  {
   "cell_type": "code",
   "execution_count": null,
   "metadata": {
    "colab": {
     "base_uri": "https://localhost:8080/"
    },
    "id": "hvZ3UnPI4jhJ",
    "outputId": "bcd6551e-5aa4-472b-c5c6-682ea85210f3"
   },
   "outputs": [],
   "source": [
    "# Instalar Framework ADK de agentes do Google ################################################\n",
    "!pip install -q google-adk"
   ]
  },
  {
   "cell_type": "code",
   "execution_count": null,
   "metadata": {
    "id": "aePV2bdfDeoW"
   },
   "outputs": [],
   "source": [
    "from google.adk.agents import Agent\n",
    "from google.adk.runners import Runner\n",
    "from google.adk.sessions import InMemorySessionService\n",
    "from google.adk.tools import google_search\n",
    "from google.genai import types  # Para criar conteúdos (Content e Part)\n",
    "from datetime import date\n",
    "import textwrap # Para formatar melhor a saída de texto\n",
    "from IPython.display import display, Markdown # Para exibir texto formatado no Colab\n",
    "import requests # Para fazer requisições HTTP\n",
    "import warnings\n",
    "\n",
    "warnings.filterwarnings(\"ignore\")"
   ]
  },
  {
   "cell_type": "code",
   "execution_count": null,
   "metadata": {
    "id": "_xP4lWhsS5ko"
   },
   "outputs": [],
   "source": [
    "# Função auxiliar que envia uma mensagem para um agente via Runner e retorna a resposta final\n",
    "def call_agent(agent: Agent, message_text: str) -> str:\n",
    "    # Cria um serviço de sessão em memória\n",
    "    session_service = InMemorySessionService()\n",
    "    # Cria uma nova sessão (você pode personalizar os IDs conforme necessário)\n",
    "    session = session_service.create_session(app_name=agent.name, user_id=\"user1\", session_id=\"session1\")\n",
    "    # Cria um Runner para o agente\n",
    "    runner = Runner(agent=agent, app_name=agent.name, session_service=session_service)\n",
    "    # Cria o conteúdo da mensagem de entrada\n",
    "    content = types.Content(role=\"user\", parts=[types.Part(text=message_text)])\n",
    "\n",
    "    final_response = \"\"\n",
    "    # Itera assincronamente pelos eventos retornados durante a execução do agente\n",
    "    for event in runner.run(user_id=\"user1\", session_id=\"session1\", new_message=content):\n",
    "        if event.is_final_response():\n",
    "          for part in event.content.parts:\n",
    "            if part.text is not None:\n",
    "              final_response += part.text\n",
    "              final_response += \"\\n\"\n",
    "    return final_response"
   ]
  },
  {
   "cell_type": "code",
   "execution_count": 74,
   "metadata": {
    "id": "o8bqIfi_DyH8"
   },
   "outputs": [],
   "source": [
    "##########################################\n",
    "# --- Agente 1: Buscador de Preços --- #\n",
    "##########################################\n",
    "\n",
    "def agente_buscador(medicamento):\n",
    "\n",
    "  buscador = Agent(\n",
    "      name = \"agente_buscador\",\n",
    "      # model = \"gemini-2.0-flash\",\n",
    "      model = \"gemini-2.5-flash-preview-04-17\",\n",
    "      description = \"Agente que busca preços no Google\",\n",
    "      tools = [google_search],\n",
    "      instruction = \"\"\"\n",
    "      Você é um assistente de pesquisa. A sua tarefa é usar a ferramenta de busca do Google (google_search) para recuperar os melhores preços e ofertas do medicamento abaixo.\n",
    "      Os melhores preços seriam os com menor valor, tendo desconto ou não.\n",
    "      Retorne no máximo 5 melhores preços, incluindo preços com descontos.\n",
    "\n",
    "      Retorne na seguinte estrutura:\n",
    "      Farmácia: Nome da Farmácia\n",
    "      Medicamento: Nome\n",
    "      Descrição: Descrição do medicamento\n",
    "      Valor: Apenas o valor do medicamento encontrado na busca\n",
    "      Link: Link de acesso ao site da farmacia, formate ele para um formato https valido\n",
    "      \"\"\"\n",
    "  )\n",
    "\n",
    "  entrada_do_agente_buscador = f\"Medicamento: {medicamento}\"\n",
    "\n",
    "  resultado = call_agent(buscador, entrada_do_agente_buscador)\n",
    "  return resultado"
   ]
  },
  {
   "cell_type": "code",
   "execution_count": null,
   "metadata": {
    "colab": {
     "base_uri": "https://localhost:8080/"
    },
    "id": "630ummxz4myx",
    "outputId": "d2e5ae96-3535-421a-ef2c-2f27c76c7f2f"
   },
   "outputs": [],
   "source": [
    "print(\"Iniciando o Sistema de Busca de Medicamentos com Melhores Preços\")\n",
    "\n",
    "# --- Obter o Tópico do Usuário ---\n",
    "medicamento = input(\"Por favor, digite o medicamento que você tem interesse: \")\n",
    "\n",
    "# Inserir lógica do sistema de agentes ################################################\n",
    "\n",
    "if not medicamento:\n",
    "  print(\"É necessário informar pelo menos 1 medicamento\")\n",
    "else:\n",
    "  print(f\"Maravilha! Vamos buscar os melhores valores para {medicamento}.\")\n",
    "\n",
    "  resultado_pesquisa = agente_buscador(medicamento)\n",
    "  print(\"\\n------ Resultado da Busca ------\\n\")\n",
    "  print(resultado_pesquisa)\n",
    "  print(\"----------------------------------------------------\")\n"
   ]
  }
 ],
 "metadata": {
  "colab": {
   "provenance": []
  },
  "kernelspec": {
   "display_name": "Python 3",
   "name": "python3"
  },
  "language_info": {
   "name": "python"
  }
 },
 "nbformat": 4,
 "nbformat_minor": 0
}
